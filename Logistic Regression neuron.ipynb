{
 "cells": [
  {
   "cell_type": "code",
   "execution_count": 1,
   "metadata": {},
   "outputs": [],
   "source": [
    "import numpy as np\n",
    "import matplotlib.pyplot as plt\n",
    "\n",
    "from sklearn.datasets import load_iris\n",
    "from sklearn.model_selection import train_test_split\n",
    "\n",
    "%matplotlib inline"
   ]
  },
  {
   "cell_type": "code",
   "execution_count": 2,
   "metadata": {},
   "outputs": [],
   "source": [
    "class LogisticNeuron:\n",
    "    \n",
    "    def __init__(self, n_iter, eta, random_state=None):\n",
    "        \"\"\"\n",
    "        n_iter: int. \n",
    "                Number of epochs to apply gradient descent\n",
    "                \n",
    "        eta: float\n",
    "                Learning rate of gradient descent\n",
    "                \n",
    "        random_state: int\n",
    "                To reproduce result \n",
    "        \"\"\"\n",
    "        self.n_iter = n_iter\n",
    "        self.eta = eta\n",
    "        self.random_state = random_state\n",
    "        \n",
    "        self.fitted = False\n",
    "        \n",
    "    def __forward_propagation(self):\n",
    "        net_input = self.__net_input()\n",
    "        self.Z = self._sigmoid(net_input)\n",
    "        return self._compute_cost()\n",
    "    \n",
    "    def __backward_propagation(self):\n",
    "        return self.Z - self.y\n",
    "    \n",
    "    def fit(self, X, y):\n",
    "        \"\"\"\n",
    "        X: array-like. shape = [n_features, n_samples]\n",
    "           X stores the samples column wise\n",
    "        \n",
    "        y: array-like. shape = [n_samples]\n",
    "           y stores the labels of the different samples\n",
    "           \n",
    "        return: self\n",
    "        \"\"\"\n",
    "        self.X = X.T\n",
    "        self.y = y\n",
    "        self.fitted = True\n",
    "        \n",
    "        self.__random_initialization()\n",
    "        self.costs_ = []\n",
    "        \n",
    "        for _ in range(self.n_iter):\n",
    "            cost = self.__forward_propagation()\n",
    "            self.costs_.append(cost)\n",
    "            \n",
    "            self.__backward_propagation()\n",
    "            self.__update_weights()\n",
    "            \n",
    "        return self\n",
    "    \n",
    "    def predict(self, X):\n",
    "        X = X.T\n",
    "        net_input = self.net_input(X)\n",
    "        sigmoid = self._sigmoid(net_input)\n",
    "        return np.where(sigmoid >= 0.5, 1, 0).squeeze()\n",
    "        \n",
    "    def net_input(self, x):\n",
    "        return np.dot(self.w_.T, x) + self.b_\n",
    "    \n",
    "    def __random_initialization(self):\n",
    "        self.w_ = np.random.rand(self.X.shape[0], 1)\n",
    "        self.b_ = np.random.rand()\n",
    "        \n",
    "    def _compute_cost(self):\n",
    "        m = len(self.w_)\n",
    "        J = - 1 / m * np.sum((self.y * np.log(self.Z) + (1.0 - self.y) * np.log(1.0 - self.Z)))\n",
    "        return J\n",
    "        \n",
    "    def _sigmoid(self, x):\n",
    "        return 1.0 / (1.0 + np.exp(-x))\n",
    "    \n",
    "    def __net_input(self):\n",
    "        return np.dot(self.w_.T, self.X) + self.b_\n",
    "    \n",
    "    def __update_weights(self):\n",
    "        m = len(self.w_)\n",
    "        dZ = self.__backward_propagation()\n",
    "        self.w_ -= 1 / m * self.eta * np.dot(self.X, dZ.T)\n",
    "        self.b_ -=  1 / m * self.eta * np.sum(dZ)\n",
    "        \n",
    "    def __repr__(self):\n",
    "        if not self.fitted:\n",
    "            return \"LogisticNeuron()\"\n",
    "        return f\"LogisticNeuron(eta = {self.eta}, epochs = {self.n_iter})\""
   ]
  },
  {
   "cell_type": "code",
   "execution_count": 3,
   "metadata": {},
   "outputs": [
    {
     "data": {
      "image/png": "[encoded data removed]",
      "text/plain": [
       "<Figure size 720x504 with 1 Axes>"
      ]
     },
     "metadata": {
      "needs_background": "light"
     },
     "output_type": "display_data"
    }
   ],
   "source": [
    "iris = load_iris()\n",
    "X = iris.data[:100, (2, 3)]\n",
    "y = iris.target[:100]\n",
    "\n",
    "plt.figure(figsize=(10, 7))\n",
    "\n",
    "colors = ['red', 'blue']\n",
    "for label, color in zip(np.unique(y), colors):\n",
    "    plt.scatter(X[y == label, 0], X[y == label, 1], c=color, \n",
    "                edgecolor='black', label=label)\n",
    "    \n",
    "plt.xlabel('Petal width (cm)')\n",
    "plt.ylabel('Petal length (cm)')\n",
    "plt.legend()\n",
    "plt.show()"
   ]
  },
  {
   "cell_type": "code",
   "execution_count": 4,
   "metadata": {},
   "outputs": [
    {
     "name": "stdout",
     "output_type": "stream",
     "text": [
      "Train size:  70\n",
      "Test size:  30\n",
      "Distribution of y_train:  [36 34]\n",
      "Distribution of y_test:  [14 16]\n"
     ]
    }
   ],
   "source": [
    "X_train, X_test, y_train, y_test = train_test_split(X, y, \n",
    "                                                    test_size=0.3, random_state=1)\n",
    "\n",
    "print('Train size: ', len(X_train))\n",
    "print('Test size: ', len(X_test))\n",
    "\n",
    "print('Distribution of y_train: ', np.bincount(y_train))\n",
    "print('Distribution of y_test: ', np.bincount(y_test))"
   ]
  },
  {
   "cell_type": "code",
   "execution_count": 5,
   "metadata": {},
   "outputs": [
    {
     "data": {
      "text/plain": [
       "LogisticNeuron()"
      ]
     },
     "execution_count": 5,
     "metadata": {},
     "output_type": "execute_result"
    }
   ],
   "source": [
    "neuron = LogisticNeuron(n_iter=100, eta=0.01, random_state=0)\n",
    "neuron"
   ]
  },
  {
   "cell_type": "code",
   "execution_count": 6,
   "metadata": {},
   "outputs": [
    {
     "data": {
      "text/plain": [
       "LogisticNeuron(eta = 0.01, epochs = 100)"
      ]
     },
     "execution_count": 6,
     "metadata": {},
     "output_type": "execute_result"
    }
   ],
   "source": [
    "neuron.fit(X_train, y_train)"
   ]
  },
  {
   "cell_type": "code",
   "execution_count": 7,
   "metadata": {},
   "outputs": [
    {
     "data": {
      "image/png": "[encoded data removed]",
      "text/plain": [
       "<Figure size 720x504 with 1 Axes>"
      ]
     },
     "metadata": {
      "needs_background": "light"
     },
     "output_type": "display_data"
    }
   ],
   "source": [
    "costs = neuron.costs_\n",
    "\n",
    "plt.figure(figsize=(10, 7))\n",
    "plt.plot(range(1, len(costs) + 1), costs, 'o-')\n",
    "\n",
    "plt.xlabel('Epochs')\n",
    "plt.ylabel('Cost function')\n",
    "plt.show()"
   ]
  },
  {
   "cell_type": "code",
   "execution_count": 8,
   "metadata": {},
   "outputs": [
    {
     "name": "stdout",
     "output_type": "stream",
     "text": [
      "Test accuracy:  1.0\n"
     ]
    }
   ],
   "source": [
    "from sklearn.metrics import accuracy_score\n",
    "\n",
    "y_test_pred = neuron.predict(X_test)\n",
    "print('Test accuracy: ', accuracy_score(y_test_pred, y_test))"
   ]
  },
  {
   "cell_type": "code",
   "execution_count": 9,
   "metadata": {},
   "outputs": [],
   "source": [
    "def plot_decision_region(X, y, classifier, test_indx=range(100, 150), \n",
    "                         margin=1, resolution=0.02):\n",
    "    \n",
    "    from matplotlib.colors import ListedColormap\n",
    "    colors = ['blue', 'red']\n",
    "    cmap = ListedColormap(colors)\n",
    "    \n",
    "    x1_min, x1_max = X[:, 0].min() - margin, X[:, 0].max() + margin\n",
    "    x2_min, x2_max = X[:, 1].min() - margin, X[:, 1].max() + margin\n",
    "    \n",
    "    X1, X2 = np.meshgrid(np.arange(x1_min, x1_max, resolution), \n",
    "                         np.arange(x2_min, x2_max, resolution))\n",
    "    \n",
    "    Z = classifier.predict(np.array([X1.ravel(), X2.ravel()]).T).reshape(X1.shape)\n",
    "    \n",
    "    plt.figure(figsize=(10, 7))\n",
    "    plt.contourf(X1, X2, Z, cmap=cmap, alpha=0.3)\n",
    "    \n",
    "    for label, color in zip(np.unique(y), colors):\n",
    "        plt.scatter(X[y == label, 0], X[y == label, 1], c=color, \n",
    "                    label=label, edgecolor='black')\n",
    "        \n",
    "    if test_indx:\n",
    "        X = X[test_indx]\n",
    "        y = y[test_indx]\n",
    "        for label, color in zip(np.unique(y), colors):\n",
    "            plt.scatter(X[y == label, 0], X[y == label, 1], \n",
    "                        c=[], s=200, edgecolor=color, ls='--', \n",
    "                        label=f'test {label}')\n",
    "            \n",
    "    plt.show()"
   ]
  },
  {
   "cell_type": "code",
   "execution_count": 10,
   "metadata": {},
   "outputs": [
    {
     "data": {
      "image/png": "[encoded data removed]",
      "text/plain": [
       "<Figure size 720x504 with 1 Axes>"
      ]
     },
     "metadata": {
      "needs_background": "light"
     },
     "output_type": "display_data"
    }
   ],
   "source": [
    "X_stacked = np.vstack((X_train, X_test))\n",
    "y_stacked = np.hstack((y_train, y_test))\n",
    "\n",
    "plot_decision_region(X_stacked, y_stacked, neuron, test_indx=range(70, 100))"
   ]
  }
 ],
 "metadata": {
  "kernelspec": {
   "display_name": "Python 3",
   "language": "python",
   "name": "python3"
  },
  "language_info": {
   "codemirror_mode": {
    "name": "ipython",
    "version": 3
   },
   "file_extension": ".py",
   "mimetype": "text/x-python",
   "name": "python",
   "nbconvert_exporter": "python",
   "pygments_lexer": "ipython3",
   "version": "3.8.5"
  }
 },
 "nbformat": 4,
 "nbformat_minor": 4
}
